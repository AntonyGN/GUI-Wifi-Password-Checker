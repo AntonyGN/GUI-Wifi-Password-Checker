{
 "cells": [
  {
   "cell_type": "code",
   "execution_count": null,
   "id": "a35f22f6",
   "metadata": {},
   "outputs": [],
   "source": [
    "pip install tk"
   ]
  },
  {
   "cell_type": "code",
   "execution_count": null,
   "id": "2b9b32a0",
   "metadata": {},
   "outputs": [],
   "source": [
    "pip install pyperclip"
   ]
  },
  {
   "cell_type": "code",
   "execution_count": 1,
   "id": "e0e8e011",
   "metadata": {},
   "outputs": [],
   "source": [
    "from tkinter import *\n",
    "import pyperclip\n",
    "import subprocess\n",
    "\n",
    "root = Tk()\n",
    "root.geometry(\"900x900\")\n",
    "\n",
    "pass_details = StringVar()\n",
    "myList = []\n",
    "\n",
    "\n",
    "def see_wifi_pass():\n",
    "    # call get_wifi_passwords() to retrieve the passwords\n",
    "    passwords = get_wifi_passwords()\n",
    "    \n",
    "    # save the passwords to myList\n",
    "    global myList\n",
    "    myList = list(passwords.values())\n",
    "    \n",
    "    # update pass_details with the list of passwords\n",
    "    pass_details.set(\"\\n\".join(myList))\n",
    "\n",
    "def get_wifi_passwords():\n",
    "    networks = subprocess.check_output([\"/System/Library/PrivateFrameworks/Apple80211.framework/Versions/Current/Resources/airport\", \"-s\"]).decode(\"utf-8\").split(\"\\n\")[1:]\n",
    "    passwords = {}\n",
    "    for network in networks:\n",
    "        network_parts = network.split()\n",
    "        if len(network_parts) > 1:\n",
    "            ssid = network_parts[0]\n",
    "            try:\n",
    "                password = subprocess.check_output([\"security\", \"find-generic-password\", \"-D\", \"AirPort network password\", \"-a\", ssid, \"-w\"]).decode(\"utf-8\").strip()\n",
    "                passwords[ssid] = password\n",
    "            except subprocess.CalledProcessError as e:\n",
    "                print(f\"Error retrieving password for {ssid}: {e.output}\")\n",
    "    return passwords\n",
    "    \n",
    "def show_wifi_pass():\n",
    "    def listToString(s):\n",
    "        # initialize an empty string\n",
    "        myStr = \"\"\n",
    "\n",
    "        # traverse in the string\n",
    "        for ele in s:\n",
    "            myStr = myStr +  ele + \"\\n\"\n",
    "\n",
    "            # return string\n",
    "        return myStr\n",
    "    myStr = listToString(myList)\n",
    "    pass_details.set(myStr)\n",
    "    \n",
    "def copytoclipboard():\n",
    "    password = pass_details.get()\n",
    "    pyperclip.copy(password)\n",
    "Label(root, text=\"Gui Wifi Password Checker\", font=\"calibri 20 bold\").place(x = 60,y = 50)\n",
    "Button(root, text=\"Initiate Process Now\", command=see_wifi_pass).place(x = 60, y = 90)\n",
    "Button(root, text=\"Show wifi pass details\", command=show_wifi_pass).place(x = 60, y = 130)\n",
    "Entry(root, textvariable=pass_details).place(width=800, height=50, x = 60, y = 160)\n",
    "Button(root, text=\"Copy to clipbord\", command=copytoclipboard).place(x = 60, y = 220)\n",
    "\n",
    "root.mainloop()\n",
    "\n"
   ]
  },
  {
   "cell_type": "code",
   "execution_count": null,
   "id": "fec059cf",
   "metadata": {},
   "outputs": [],
   "source": []
  }
 ],
 "metadata": {
  "kernelspec": {
   "display_name": "Python 3 (ipykernel)",
   "language": "python",
   "name": "python3"
  },
  "language_info": {
   "codemirror_mode": {
    "name": "ipython",
    "version": 3
   },
   "file_extension": ".py",
   "mimetype": "text/x-python",
   "name": "python",
   "nbconvert_exporter": "python",
   "pygments_lexer": "ipython3",
   "version": "3.9.13"
  }
 },
 "nbformat": 4,
 "nbformat_minor": 5
}
